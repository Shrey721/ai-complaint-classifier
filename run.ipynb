{
 "cells": [
  {
   "cell_type": "code",
   "execution_count": null,
   "id": "6c0e014a-ec9b-47f8-b5cf-ade5bd1e1248",
   "metadata": {},
   "outputs": [],
   "source": [
    "import joblib\n",
    "import mysql.connector\n",
    "\n",
    "# Load model and vectorizer\n",
    "loaded_model = joblib.load('models/complaint_classifier_model.joblib')\n",
    "vectorizer = joblib.load('models/vectorizer.joblib')\n",
    "\n",
    "topic_names = {\n",
    "    0: \"Bank Account services\",\n",
    "    1: \"Credit card or prepaid card\",\n",
    "    2: \"Others\",\n",
    "    3: \"Theft/Dispute Reporting\",\n",
    "    4: \"Mortgage/Loan\"\n",
    "}\n",
    "\n",
    "print(\"AI Complaint Classifier is ready! Type 'exit' to quit.\\n\")\n",
    "\n",
    "while True:\n",
    "    new_complaint = input(\"Enter a new complaint: \")\n",
    "    if new_complaint.lower() == 'exit':\n",
    "        print(\"Exiting AI Complaint Classifier. Goodbye!\")\n",
    "        break\n",
    "\n",
    "    try:\n",
    "        X_new = vectorizer.transform([new_complaint])\n",
    "        predicted_index = loaded_model.predict(X_new)[0]\n",
    "        predicted_name = topic_names.get(predicted_index, \"Unknown Topic\")\n",
    "        print(f\"Predicted Topic: '{predicted_name}'\")\n",
    "    except Exception as e:\n",
    "        print(f\"❌ Prediction Error: {e}\")\n",
    "        continue\n",
    "\n",
    "    try:\n",
    "        db = mysql.connector.connect(\n",
    "            host=\"localhost\",\n",
    "            user=\"root\",\n",
    "            password=\"peeuparth\",\n",
    "            database=\"complaint_db\"\n",
    "        )\n",
    "        cursor = db.cursor()\n",
    "        sql = \"INSERT INTO conversation_logs (user_query, predicted_topic) VALUES (%s, %s)\"\n",
    "        val = (new_complaint, predicted_name)\n",
    "        cursor.execute(sql, val)\n",
    "        db.commit()\n",
    "        cursor.close()\n",
    "        db.close()\n",
    "        print(\"Interaction logged to database.\\n\")\n",
    "    except Exception as e:\n",
    "        print(f\"❌ Error logging to database: {e}\\n\")\n"
   ]
  }
 ],
 "metadata": {
  "kernelspec": {
   "display_name": "Python 3 (ipykernel)",
   "language": "python",
   "name": "python3"
  },
  "language_info": {
   "codemirror_mode": {
    "name": "ipython",
    "version": 3
   },
   "file_extension": ".py",
   "mimetype": "text/x-python",
   "name": "python",
   "nbconvert_exporter": "python",
   "pygments_lexer": "ipython3",
   "version": "3.12.4"
  }
 },
 "nbformat": 4,
 "nbformat_minor": 5
}
