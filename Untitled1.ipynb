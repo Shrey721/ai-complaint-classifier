{
 "cells": [
  {
   "cell_type": "code",
   "execution_count": null,
   "id": "6c0e014a-ec9b-47f8-b5cf-ade5bd1e1248",
   "metadata": {},
   "outputs": [
    {
     "name": "stdout",
     "output_type": "stream",
     "text": [
      "AI Complaint Classifier is ready! Type 'exit' to quit.\n",
      "\n"
     ]
    }
   ],
   "source": [
    "%run app.py"
   ]
  }
 ],
 "metadata": {
  "kernelspec": {
   "display_name": "Python 3 (ipykernel)",
   "language": "python",
   "name": "python3"
  },
  "language_info": {
   "codemirror_mode": {
    "name": "ipython",
    "version": 3
   },
   "file_extension": ".py",
   "mimetype": "text/x-python",
   "name": "python",
   "nbconvert_exporter": "python",
   "pygments_lexer": "ipython3",
   "version": "3.12.4"
  }
 },
 "nbformat": 4,
 "nbformat_minor": 5
}
